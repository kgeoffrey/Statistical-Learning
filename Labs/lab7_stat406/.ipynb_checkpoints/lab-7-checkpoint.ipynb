{
 "cells": [
  {
   "cell_type": "code",
   "execution_count": 37,
   "metadata": {},
   "outputs": [],
   "source": [
    "data  <-  read.csv(\"Iris.txt\", sep = \",\", header = TRUE)\n",
    "\n",
    "library(rpart)"
   ]
  },
  {
   "cell_type": "code",
   "execution_count": 40,
   "metadata": {},
   "outputs": [],
   "source": [
    "set.seed(800)\n",
    "\n",
    "myc  <-  rpart.control(minsplit=3, cp=1e-8)\n",
    "tree  <- rpart(y ~ sepal + petal, data=data, method= 'class', control=myc)"
   ]
  },
  {
   "cell_type": "code",
   "execution_count": 41,
   "metadata": {},
   "outputs": [
    {
     "data": {
      "text/plain": [
       "n= 100 \n",
       "\n",
       "node), split, n, loss, yval, (yprob)\n",
       "      * denotes terminal node\n",
       "\n",
       " 1) root 100 50 0 (0.50000000 0.50000000)  \n",
       "   2) petal< 4.75 45  1 0 (0.97777778 0.02222222) *\n",
       "   3) petal>=4.75 55  6 1 (0.10909091 0.89090909)  \n",
       "     6) petal< 5.05 13  5 1 (0.38461538 0.61538462)  \n",
       "      12) sepal>=6.5 3  0 0 (1.00000000 0.00000000) *\n",
       "      13) sepal< 6.5 10  2 1 (0.20000000 0.80000000) *\n",
       "     7) petal>=5.05 42  1 1 (0.02380952 0.97619048)  \n",
       "      14) sepal< 6.05 5  1 1 (0.20000000 0.80000000)  \n",
       "        28) sepal>=5.95 1  0 0 (1.00000000 0.00000000) *\n",
       "        29) sepal< 5.95 4  0 1 (0.00000000 1.00000000) *\n",
       "      15) sepal>=6.05 37  0 1 (0.00000000 1.00000000) *"
      ]
     },
     "metadata": {},
     "output_type": "display_data"
    }
   ],
   "source": [
    "(tree)"
   ]
  },
  {
   "cell_type": "code",
   "execution_count": 21,
   "metadata": {},
   "outputs": [
    {
     "ename": "ERROR",
     "evalue": "Error in predict(tree, newdata = newgrid)$posterior: $ operator is invalid for atomic vectors\n",
     "output_type": "error",
     "traceback": [
      "Error in predict(tree, newdata = newgrid)$posterior: $ operator is invalid for atomic vectors\nTraceback:\n"
     ]
    }
   ],
   "source": [
    "xvol <- c(4.9, 5.9)\n",
    "xrat <- c(5.3, 4.8)\n",
    "newgrid <- expand.grid(xvol, xrat)\n",
    "names(newgrid) <- c('sepal', 'petal')\n",
    "\n",
    "pr.new <- predict(tree, newdata=newgrid)$posterior"
   ]
  },
  {
   "cell_type": "code",
   "execution_count": 30,
   "metadata": {},
   "outputs": [],
   "source": [
    "pre <- predict(tree, newdata=newgrid, type='prob')"
   ]
  },
  {
   "cell_type": "code",
   "execution_count": 31,
   "metadata": {},
   "outputs": [
    {
     "data": {
      "text/html": [
       "<table>\n",
       "<thead><tr><th></th><th scope=col>0</th><th scope=col>1</th></tr></thead>\n",
       "<tbody>\n",
       "\t<tr><th scope=row>1</th><td>0.1090909</td><td>0.8909091</td></tr>\n",
       "\t<tr><th scope=row>2</th><td>0.1090909</td><td>0.8909091</td></tr>\n",
       "\t<tr><th scope=row>3</th><td>0.1090909</td><td>0.8909091</td></tr>\n",
       "\t<tr><th scope=row>4</th><td>0.1090909</td><td>0.8909091</td></tr>\n",
       "</tbody>\n",
       "</table>\n"
      ],
      "text/latex": [
       "\\begin{tabular}{r|ll}\n",
       "  & 0 & 1\\\\\n",
       "\\hline\n",
       "\t1 & 0.1090909 & 0.8909091\\\\\n",
       "\t2 & 0.1090909 & 0.8909091\\\\\n",
       "\t3 & 0.1090909 & 0.8909091\\\\\n",
       "\t4 & 0.1090909 & 0.8909091\\\\\n",
       "\\end{tabular}\n"
      ],
      "text/markdown": [
       "\n",
       "| <!--/--> | 0 | 1 | \n",
       "|---|---|---|---|\n",
       "| 1 | 0.1090909 | 0.8909091 | \n",
       "| 2 | 0.1090909 | 0.8909091 | \n",
       "| 3 | 0.1090909 | 0.8909091 | \n",
       "| 4 | 0.1090909 | 0.8909091 | \n",
       "\n",
       "\n"
      ],
      "text/plain": [
       "  0         1        \n",
       "1 0.1090909 0.8909091\n",
       "2 0.1090909 0.8909091\n",
       "3 0.1090909 0.8909091\n",
       "4 0.1090909 0.8909091"
      ]
     },
     "metadata": {},
     "output_type": "display_data"
    }
   ],
   "source": [
    "pre"
   ]
  },
  {
   "cell_type": "code",
   "execution_count": 32,
   "metadata": {},
   "outputs": [
    {
     "data": {
      "text/html": [
       "<table>\n",
       "<thead><tr><th scope=col>sepal</th><th scope=col>petal</th></tr></thead>\n",
       "<tbody>\n",
       "\t<tr><td>4.9</td><td>5.3</td></tr>\n",
       "\t<tr><td>5.9</td><td>5.3</td></tr>\n",
       "\t<tr><td>4.9</td><td>4.8</td></tr>\n",
       "\t<tr><td>5.9</td><td>4.8</td></tr>\n",
       "</tbody>\n",
       "</table>\n"
      ],
      "text/latex": [
       "\\begin{tabular}{r|ll}\n",
       " sepal & petal\\\\\n",
       "\\hline\n",
       "\t 4.9 & 5.3\\\\\n",
       "\t 5.9 & 5.3\\\\\n",
       "\t 4.9 & 4.8\\\\\n",
       "\t 5.9 & 4.8\\\\\n",
       "\\end{tabular}\n"
      ],
      "text/markdown": [
       "\n",
       "sepal | petal | \n",
       "|---|---|---|---|\n",
       "| 4.9 | 5.3 | \n",
       "| 5.9 | 5.3 | \n",
       "| 4.9 | 4.8 | \n",
       "| 5.9 | 4.8 | \n",
       "\n",
       "\n"
      ],
      "text/plain": [
       "  sepal petal\n",
       "1 4.9   5.3  \n",
       "2 5.9   5.3  \n",
       "3 4.9   4.8  \n",
       "4 5.9   4.8  "
      ]
     },
     "metadata": {},
     "output_type": "display_data"
    }
   ],
   "source": [
    "newgrid"
   ]
  },
  {
   "cell_type": "code",
   "execution_count": null,
   "metadata": {},
   "outputs": [],
   "source": []
  }
 ],
 "metadata": {
  "kernelspec": {
   "display_name": "R",
   "language": "R",
   "name": "ir"
  },
  "language_info": {
   "codemirror_mode": "r",
   "file_extension": ".r",
   "mimetype": "text/x-r-source",
   "name": "R",
   "pygments_lexer": "r",
   "version": "3.4.1"
  }
 },
 "nbformat": 4,
 "nbformat_minor": 2
}
